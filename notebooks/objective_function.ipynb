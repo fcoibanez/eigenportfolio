{
 "cells": [
  {
   "cell_type": "markdown",
   "metadata": {
    "collapsed": true,
    "pycharm": {
     "name": "#%% md\n"
    }
   },
   "source": [
    "# Testing the objective function\n",
    "1. Test if max enb (closed form) is the same as equalizing the factor risk contribution\n"
   ]
  },
  {
   "cell_type": "code",
   "execution_count": 2,
   "outputs": [
    {
     "data": {
      "text/plain": "array([[-3.65948250e-01, -2.20936538e+00,  4.39072779e+00,\n         6.02789032e-01, -3.32197699e-01, -9.92025878e-01,\n         8.23121730e-01, -2.95584347e-03, -2.36301805e+00,\n        -8.72173224e+00, -1.32384424e+01,  1.01908734e+01,\n        -7.41574816e-02, -1.05626001e+00,  1.69810423e+00,\n         3.52983487e-01,  3.52983487e-01,  1.69810423e+00,\n        -1.05626001e+00, -7.41574816e-02,  1.01908734e+01,\n        -1.32384424e+01, -8.72173224e+00, -2.36301805e+00,\n        -2.95584347e-03,  8.23121730e-01, -9.92025878e-01,\n        -3.32197699e-01,  6.02789032e-01,  4.39072779e+00,\n        -2.20936538e+00, -3.65948250e-01],\n       [-1.72872035e-01, -1.68539043e+00, -1.76161790e+00,\n        -2.73647228e+00,  1.87922146e+00,  1.07221311e+00,\n         1.53636808e+00,  7.60577697e-01,  7.04892740e+00,\n        -1.69612425e+01,  9.34572385e+00, -3.11544202e+01,\n         2.05628232e+00,  8.80848831e-01,  1.53842056e+00,\n         4.31371854e-01,  4.31371854e-01,  1.53842056e+00,\n         8.80848831e-01,  2.05628232e+00, -3.11544202e+01,\n         9.34572385e+00, -1.69612425e+01,  7.04892740e+00,\n         7.60577697e-01,  1.53636808e+00,  1.07221311e+00,\n         1.87922146e+00, -2.73647228e+00, -1.76161790e+00,\n        -1.68539043e+00, -1.72872035e-01],\n       [-2.46741453e+00,  2.65045406e+00, -1.27806899e-01,\n         4.35015267e+00, -9.08683302e-01,  7.06378622e-01,\n        -3.08272643e-01,  1.25576612e+00,  1.47658875e+01,\n         7.62753215e+00,  5.70503242e+00,  2.26441294e+01,\n        -2.19073294e+00,  3.33988977e-01, -1.31479252e+00,\n         1.10808744e+00,  1.10808744e+00, -1.31479252e+00,\n         3.33988977e-01, -2.19073294e+00,  2.26441294e+01,\n         5.70503242e+00,  7.62753215e+00,  1.47658875e+01,\n         1.25576612e+00, -3.08272643e-01,  7.06378622e-01,\n        -9.08683302e-01,  4.35015267e+00, -1.27806899e-01,\n         2.65045406e+00, -2.46741453e+00],\n       [-1.28640078e+00,  3.67688805e-01, -3.59880269e+00,\n        -9.59586507e-01, -2.39550133e-01,  2.11179982e-01,\n        -7.79023001e-01, -2.48086374e-01, -5.37193394e+00,\n         1.27998617e+01,  9.45338762e-01,  7.63824054e+00,\n         7.87637174e-01,  1.23495559e+00, -3.37279095e-03,\n         6.06202207e-01,  6.06202207e-01, -3.37279095e-03,\n         1.23495559e+00,  7.87637174e-01,  7.63824054e+00,\n         9.45338762e-01,  1.27998617e+01, -5.37193394e+00,\n        -2.48086374e-01, -7.79023001e-01,  2.11179982e-01,\n        -2.39550133e-01, -9.59586507e-01, -3.59880269e+00,\n         3.67688805e-01, -1.28640078e+00],\n       [ 5.29263559e+00,  1.87661294e+00,  2.09749970e+00,\n        -2.56882907e-01,  6.01209674e-01,  2.25416247e-03,\n        -2.72194165e-01, -7.65301601e-01, -1.30798629e+01,\n         6.25558091e+00, -1.75765267e+00, -8.31882308e+00,\n         4.20970929e-01, -3.93533384e-01, -9.18359479e-01,\n        -1.49864499e+00, -1.49864499e+00, -9.18359479e-01,\n        -3.93533384e-01,  4.20970929e-01, -8.31882308e+00,\n        -1.75765267e+00,  6.25558091e+00, -1.30798629e+01,\n        -7.65301601e-01, -2.72194165e-01,  2.25416247e-03,\n         6.01209674e-01, -2.56882907e-01,  2.09749970e+00,\n         1.87661294e+00,  5.29263559e+00]])"
     },
     "execution_count": 2,
     "metadata": {},
     "output_type": "execute_result"
    }
   ],
   "source": [
    "import pandas as pd\n",
    "import numpy as np\n",
    "from sklearn import preprocessing\n",
    "from scipy.linalg import svd\n",
    "import itertools\n",
    "from scipy.optimize import minimize\n",
    "import time\n",
    "import cvxpy as cp\n",
    "\n",
    "raw = pd.read_pickle('etf_er.pkl')\n",
    "sample = raw.iloc[:, :5].dropna()\n",
    "scaler = preprocessing.StandardScaler().fit(sample)\n",
    "sample_z = scaler.transform(sample)\n",
    "\n",
    "D = np.diag(np.sqrt(scaler.var_))\n",
    "U, s, Vt = svd(\n",
    "    sample_z,\n",
    "    full_matrices=False,\n",
    "    compute_uv=True,\n",
    "    lapack_driver='gesdd'\n",
    ")\n",
    "S = np.diag(s)\n",
    "V = Vt.T\n",
    "\n",
    "combinations = [np.reshape(np.array(i), (S.shape[0], 1)) for i in itertools.product([1, -1], repeat=S.shape[0])]\n",
    "J = np.concatenate(combinations, axis=1)\n",
    "W = np.linalg.inv(D) @ V @ np.linalg.inv(S) @ J\n",
    "W = np.divide(W, W.sum(axis=0))\n",
    "W"
   ],
   "metadata": {
    "collapsed": false,
    "pycharm": {
     "name": "#%%\n"
    }
   }
  },
  {
   "cell_type": "code",
   "execution_count": 3,
   "outputs": [
    {
     "name": "stdout",
     "output_type": "stream",
     "text": [
      "[ -8.72174785 -16.96127116   7.62754448  12.7998851    6.25558943]\n"
     ]
    },
    {
     "data": {
      "text/plain": "4.999999999999638"
     },
     "execution_count": 3,
     "metadata": {},
     "output_type": "execute_result"
    }
   ],
   "source": [
    "def effective_bets(weights, singular_values_matrix, eigen_vector_matrix, vol, k=None):\n",
    "    w = weights.reshape(-1, 1)\n",
    "    eigen_wts = eigen_vector_matrix.T @ np.diag(vol) @ w\n",
    "    p = (np.diag(eigen_wts.flatten()) @ singular_values_matrix.T @ singular_values_matrix @ eigen_wts).flatten()\n",
    "    if k is not None:\n",
    "        p = p[:k]\n",
    "    p_norm = np.divide(p, p.sum())\n",
    "    eta = np.exp(-np.sum(np.multiply(p_norm, np.log(p_norm))))\n",
    "    return eta\n",
    "\n",
    "\n",
    "def objective_diversify(weights, singular_values_matrix, eigen_vector_matrix, vol, k=None):\n",
    "    enb = effective_bets(weights, singular_values_matrix, eigen_vector_matrix, vol, k)\n",
    "    return -enb\n",
    "\n",
    "cons = (\n",
    "    {'type': 'eq', 'fun': lambda x: np.sum(x) - 1}\n",
    ")\n",
    "\n",
    "opti = minimize(\n",
    "    fun=objective_diversify,\n",
    "    x0=np.array([1 / sample.shape[1]] * sample.shape[1]),\n",
    "    args=(S, V, np.diag(D)),\n",
    "    constraints=cons,\n",
    "    method='SLSQP',\n",
    "    options={'maxiter': 1E9, 'ftol': 1E-12}\n",
    ")\n",
    "\n",
    "print(opti.x)\n",
    "effective_bets(opti.x, S, V, np.diag(D))"
   ],
   "metadata": {
    "collapsed": false,
    "pycharm": {
     "name": "#%%\n"
    }
   }
  },
  {
   "cell_type": "markdown",
   "source": [
    "Which is one of the sets in the closed form solution"
   ],
   "metadata": {
    "collapsed": false,
    "pycharm": {
     "name": "#%% md\n"
    }
   }
  },
  {
   "cell_type": "code",
   "execution_count": 4,
   "outputs": [
    {
     "name": "stdout",
     "output_type": "stream",
     "text": [
      "[ -8.72171236 -16.96120432   7.62751998  12.79983135   6.25556534]\n",
      "[ -8.72171236 -16.96120432   7.62751998  12.79983135   6.25556534]\n",
      "[ -8.72171236 -16.96120432   7.62751998  12.79983135   6.25556534]\n",
      "[ -8.72171236 -16.96120432   7.62751998  12.79983135   6.25556534]\n",
      "[ -8.72171236 -16.96120432   7.62751998  12.79983135   6.25556534]\n",
      "[ -8.72171236 -16.96120432   7.62751998  12.79983135   6.25556534]\n",
      "[ -8.72171236 -16.96120432   7.62751998  12.79983135   6.25556534]\n",
      "[ -8.72171236 -16.96120432   7.62751998  12.79983135   6.25556534]\n",
      "[ -8.72171236 -16.96120432   7.62751998  12.79983135   6.25556534]\n",
      "[ -8.72171236 -16.96120432   7.62751998  12.79983135   6.25556534]\n",
      "[ -8.72171236 -16.96120432   7.62751998  12.79983135   6.25556534]\n",
      "[ -8.72171236 -16.96120432   7.62751998  12.79983135   6.25556534]\n",
      "[ -8.72171236 -16.96120432   7.62751998  12.79983135   6.25556534]\n",
      "[ -8.72171236 -16.96120432   7.62751998  12.79983135   6.25556534]\n",
      "[ -8.72171236 -16.96120432   7.62751998  12.79983135   6.25556534]\n",
      "[ -8.72171236 -16.96120432   7.62751998  12.79983135   6.25556534]\n",
      "[ -8.72171236 -16.96120432   7.62751998  12.79983135   6.25556534]\n",
      "[ -8.72171236 -16.96120432   7.62751998  12.79983135   6.25556534]\n",
      "[ -8.72171236 -16.96120432   7.62751998  12.79983135   6.25556534]\n",
      "[ -8.72171236 -16.96120432   7.62751998  12.79983135   6.25556534]\n",
      "[ -8.72171236 -16.96120432   7.62751998  12.79983135   6.25556534]\n",
      "[ -8.72171236 -16.96120432   7.62751998  12.79983135   6.25556534]\n",
      "[ -8.72171236 -16.96120432   7.62751998  12.79983135   6.25556534]\n",
      "[ -8.72171236 -16.96120432   7.62751998  12.79983135   6.25556534]\n",
      "[ -8.72171236 -16.96120432   7.62751998  12.79983135   6.25556534]\n",
      "[ -8.72171236 -16.96120432   7.62751998  12.79983135   6.25556534]\n",
      "[ -8.72171236 -16.96120432   7.62751998  12.79983135   6.25556534]\n",
      "[ -8.72171236 -16.96120432   7.62751998  12.79983135   6.25556534]\n",
      "[ -8.72171236 -16.96120432   7.62751998  12.79983135   6.25556534]\n",
      "[ -8.72171236 -16.96120432   7.62751998  12.79983135   6.25556534]\n",
      "[ -8.72171236 -16.96120432   7.62751998  12.79983135   6.25556534]\n",
      "[ -8.72171236 -16.96120432   7.62751998  12.79983135   6.25556534]\n"
     ]
    }
   ],
   "source": [
    "for j in range(J.shape[1]):\n",
    "    V2 = V @ np.diag(J[:, j])\n",
    "    opti = minimize(\n",
    "        fun=objective_diversify,\n",
    "        x0=np.array([1] * sample.shape[1]),\n",
    "        args=(S, V2, np.diag(D)),\n",
    "        constraints=cons,\n",
    "        method='SLSQP',\n",
    "        options={'maxiter': 1E9, 'ftol': 1E-12}\n",
    "    )\n",
    "\n",
    "    print(opti.x)\n",
    "    effective_bets(opti.x, S, V, np.diag(D))"
   ],
   "metadata": {
    "collapsed": false,
    "pycharm": {
     "name": "#%%\n"
    }
   }
  },
  {
   "cell_type": "markdown",
   "source": [
    "Despite we are changing the signs of the eigenvectors, I get the same answer always"
   ],
   "metadata": {
    "collapsed": false,
    "pycharm": {
     "name": "#%% md\n"
    }
   }
  },
  {
   "cell_type": "code",
   "execution_count": 5,
   "outputs": [
    {
     "name": "stdout",
     "output_type": "stream",
     "text": [
      "[ -8.72173151 -16.96124079   7.62753173  12.79986045   6.25558012]\n"
     ]
    },
    {
     "data": {
      "text/plain": "4.999999999999998"
     },
     "execution_count": 5,
     "metadata": {},
     "output_type": "execute_result"
    }
   ],
   "source": [
    "def frc(weights, singular_values_matrix, eigen_vector_matrix, vol):\n",
    "    w = weights.reshape(-1, 1)\n",
    "    eigen_wts = eigen_vector_matrix.T @ np.diag(vol) @ w\n",
    "    p = (np.diag(eigen_wts.flatten()) @ singular_values_matrix.T @ singular_values_matrix @ eigen_wts).flatten()\n",
    "    return p\n",
    "\n",
    "def objfunc(weights, singular_values_matrix, eigen_vector_matrix, vol):\n",
    "    x = frc(weights, singular_values_matrix, eigen_vector_matrix, vol).reshape(-1, 1)\n",
    "    c = np.ones(shape=(len(weights), 1))\n",
    "    of = (x - c).T @ (x - c)\n",
    "    return of.item()\n",
    "\n",
    "\n",
    "opti = minimize(\n",
    "    fun=objfunc,\n",
    "    x0=np.array([1 / sample.shape[1]] * sample.shape[1]),\n",
    "    args=(S, V, np.diag(D)),\n",
    "    # constraints=cons,\n",
    "    method='SLSQP',\n",
    "    options={'maxiter': 1E9, 'ftol': 1E-12}\n",
    ")\n",
    "\n",
    "w = np.divide(opti.x, np.sum(opti.x))\n",
    "print(w)\n",
    "effective_bets(w, S, V, np.diag(D))"
   ],
   "metadata": {
    "collapsed": false,
    "pycharm": {
     "name": "#%%\n"
    }
   }
  },
  {
   "cell_type": "markdown",
   "source": [
    "After rescaling the weights, we get the same results, which means this could have a convex programming form.\n",
    "\n",
    "Trying to simplify the objective function now, so it can be passed easily in an optimization problem."
   ],
   "metadata": {
    "collapsed": false,
    "pycharm": {
     "name": "#%% md\n"
    }
   }
  },
  {
   "cell_type": "code",
   "execution_count": 6,
   "outputs": [
    {
     "name": "stdout",
     "output_type": "stream",
     "text": [
      "[-0.36594832 -0.17287213 -2.46741443 -1.28640077  5.29263565]\n"
     ]
    },
    {
     "data": {
      "text/plain": "4.999999999999997"
     },
     "execution_count": 6,
     "metadata": {},
     "output_type": "execute_result"
    }
   ],
   "source": [
    "def objfunc2(weights, singular_values_matrix, eigen_vector_matrix, vol):\n",
    "    w = weights.reshape(-1, 1)\n",
    "    x = singular_values_matrix @ eigen_vector_matrix.T @ np.diag(vol) @ w\n",
    "    c = np.ones(shape=(len(weights), 1))\n",
    "    of = (x - c).T @ (x - c)\n",
    "    return of.item()\n",
    "\n",
    "\n",
    "opti = minimize(\n",
    "    fun=objfunc2,\n",
    "    x0=np.array([1 / sample.shape[1]] * sample.shape[1]),\n",
    "    args=(S, V, np.diag(D)),\n",
    "    # constraints=cons,\n",
    "    method='SLSQP',\n",
    "    options={'maxiter': 1E9, 'ftol': 1E-12}\n",
    ")\n",
    "\n",
    "w = np.divide(opti.x, np.sum(opti.x))\n",
    "print(w)\n",
    "effective_bets(w, S, V, np.diag(D))"
   ],
   "metadata": {
    "collapsed": false,
    "pycharm": {
     "name": "#%%\n"
    }
   }
  },
  {
   "cell_type": "markdown",
   "source": [
    "Which is another result in the closed form solutions set.\n",
    "\n",
    "### Simplified Objective Function\n",
    "\n",
    "\\begin{align}\n",
    "\\arg \\min_{w} \\frac{1}{2} || \\theta - c ||_{2}\n",
    "\\end{align}\n",
    "\n",
    "where\n",
    "\\begin{align}\n",
    "\\theta = S V D w\n",
    "\\end{align}\n",
    "\n",
    "finally getting\n",
    "\n",
    "\\begin{align}\n",
    "\\arg \\min_{w} \\frac{1}{2} w^{T} D V S^{T} S V^{T} D w - 1^{T} S V^{T} D w\n",
    "\\end{align}\n",
    "\n",
    "Which is equivalent to minimizing the variance of the portfolio with a regularization component that depends on the projection of the asset weights into eigen-space."
   ],
   "metadata": {
    "collapsed": false,
    "pycharm": {
     "name": "#%% md\n"
    }
   }
  },
  {
   "cell_type": "code",
   "execution_count": 7,
   "outputs": [
    {
     "name": "stdout",
     "output_type": "stream",
     "text": [
      "Iteration finished in 0.010656 seconds\n",
      "[-0.36594825 -0.17287186 -2.46741427 -1.28640069  5.29263507]\n"
     ]
    },
    {
     "data": {
      "text/plain": "4.999999999999995"
     },
     "execution_count": 7,
     "metadata": {},
     "output_type": "execute_result"
    }
   ],
   "source": [
    "def objfunc3(weights, singular_values_matrix, eigen_vector_matrix, vol):\n",
    "    S = singular_values_matrix\n",
    "    D = np.diag(vol)\n",
    "    V = eigen_vector_matrix\n",
    "    w = weights.reshape(-1, 1)\n",
    "    of = 1 / 2 * w.T @ D.T @ V @ S.T @ S @ V.T @ D @ w - np.ones((1, len(weights))) @ S @ V.T @ D @ w\n",
    "\n",
    "    return of.item()\n",
    "\n",
    "tic = time.perf_counter()\n",
    "opti = minimize(\n",
    "    fun=objfunc3,\n",
    "    x0=np.array([1 / sample.shape[1]] * sample.shape[1]),\n",
    "    args=(S, V, np.diag(D)),\n",
    "    # constraints=cons,\n",
    "    method='SLSQP',\n",
    "    options={'maxiter': 1E9, 'ftol': 1E-12}\n",
    ")\n",
    "toc = time.perf_counter()\n",
    "print(f\"Iteration finished in {(toc - tic):0.6f} seconds\")\n",
    "w = np.divide(opti.x, np.sum(opti.x))\n",
    "print(w)\n",
    "effective_bets(w, S, V, np.diag(D))"
   ],
   "metadata": {
    "collapsed": false,
    "pycharm": {
     "name": "#%%\n"
    }
   }
  },
  {
   "cell_type": "markdown",
   "source": [
    "### Quadratic Form\n",
    "https://scaron.info/blog/conversion-from-least-squares-to-quadratic-programming.html\n",
    "https://web.stanford.edu/~boyd/cvxbook/\n",
    "https://stats.stackexchange.com/questions/490876/ridge-and-quadratic-programming-for-portfolio-norm-optimization\n",
    "http://faculty.london.edu/avmiguel/DeMiguelGarlappiNogalesUppalMS.pdf\n",
    "https://math.stackexchange.com/questions/4370875/closed-form-solution-for-quadratic-optimization-with-l2-regularization\n",
    "https://davidrosenberg.github.io/ml2015/docs/2b.L1L2-regularization.pdf\n",
    "https://dilequante.com/portfolio-optimization-minimize-risk-with-turnover-constraint-via-quadratic-programming/\n",
    "\n",
    "\\begin{align}\n",
    "\\arg \\min_{w} \\frac{1}{2} w^{T} D V S^{T} S V^{T} D w - 1^{T} S V^{T} D w\n",
    "\\end{align}\n",
    "\n",
    "As a special case when Q is symmetric positive-definite, the cost function reduces to least squares:\n",
    "\n",
    "\\begin{align}\n",
    "\\arg \\min_{w} \\frac{1}{2} w^{T} P w + q^{T} w\n",
    "\\end{align}\n",
    "\n",
    "where\n",
    "\\begin{align}\n",
    "P &= D V S^{T} S V^{T} D \\\\\n",
    "q &= - D V S 1\n",
    "\\end{align}\n",
    "\n",
    "\n"
   ],
   "metadata": {
    "collapsed": false,
    "pycharm": {
     "name": "#%% md\n"
    }
   }
  },
  {
   "cell_type": "code",
   "execution_count": 8,
   "outputs": [
    {
     "name": "stdout",
     "output_type": "stream",
     "text": [
      "Iteration finished in 0.018358 seconds\n",
      "[-0.36594825 -0.17287203 -2.46741453 -1.28640078  5.29263559]\n"
     ]
    },
    {
     "data": {
      "text/plain": "5.000000000000001"
     },
     "execution_count": 8,
     "metadata": {},
     "output_type": "execute_result"
    }
   ],
   "source": [
    "n = V.shape[0]\n",
    "P = D.T @ V @ S.T @ S @ V.T @ D\n",
    "q = - (np.ones((1, n)) @ S @ V.T @ D).T\n",
    "\n",
    "tic = time.perf_counter()\n",
    "x = cp.Variable(n)\n",
    "prob = cp.Problem(cp.Minimize((1/2) * cp.quad_form(x, P) + q.T @ x))\n",
    "prob.solve()\n",
    "toc = time.perf_counter()\n",
    "print(f\"Iteration finished in {(toc - tic):0.6f} seconds\")\n",
    "w = np.divide(x.value.flatten(), np.sum(x.value))\n",
    "print(w)\n",
    "effective_bets(x.value.flatten(), S, V, np.diag(D))"
   ],
   "metadata": {
    "collapsed": false,
    "pycharm": {
     "name": "#%%\n"
    }
   }
  },
  {
   "cell_type": "markdown",
   "source": [
    "### Incorporating constraints"
   ],
   "metadata": {
    "collapsed": false
   }
  },
  {
   "cell_type": "code",
   "execution_count": 9,
   "outputs": [
    {
     "name": "stdout",
     "output_type": "stream",
     "text": [
      "Minimize finished in 0.008364 seconds\n",
      "[ 0.  0.  0. -0.  1.]\n",
      "ENB: 2.2601\n",
      "QP finished in 0.012822 seconds\n",
      "[-0.  0. -0. -0.  1.]\n",
      "ENB: 2.2601\n"
     ]
    }
   ],
   "source": [
    "# Minimize\n",
    "cons = ({'type': 'ineq', 'fun': lambda x: x})\n",
    "\n",
    "tic = time.perf_counter()\n",
    "opti = minimize(\n",
    "    fun=objfunc3,\n",
    "    x0=np.array([1 / sample.shape[1]] * sample.shape[1]),\n",
    "    args=(S, V, np.diag(D)),\n",
    "    constraints=cons,\n",
    "    method='SLSQP',\n",
    "    options={'maxiter': 1E9, 'ftol': 1E-12}\n",
    ")\n",
    "toc = time.perf_counter()\n",
    "print(f\"Minimize finished in {(toc - tic):0.6f} seconds\")\n",
    "w = np.divide(opti.x, np.sum(opti.x))\n",
    "print(np.round(w, 2))\n",
    "print('ENB:', np.round(effective_bets(w, S, V, np.diag(D)), 4))\n",
    "\n",
    "# QP\n",
    "n = V.shape[0]\n",
    "P = D.T @ V @ S.T @ S @ V.T @ D\n",
    "q = - (np.ones((1, n)) @ S @ V.T @ D).T\n",
    "G = - np.eye(n)\n",
    "h = np.zeros(n)\n",
    "\n",
    "tic = time.perf_counter()\n",
    "x = cp.Variable(n)\n",
    "prob = cp.Problem(cp.Minimize((1/2) * cp.quad_form(x, P) + q.T @ x), [G @ x <= h])\n",
    "prob.solve()\n",
    "toc = time.perf_counter()\n",
    "print(f\"QP finished in {(toc - tic):0.6f} seconds\")\n",
    "w = np.divide(x.value.flatten(), np.sum(x.value))\n",
    "print(np.round(w, 2))\n",
    "print('ENB:', np.round(effective_bets(x.value.flatten(), S, V, np.diag(D)), 4))"
   ],
   "metadata": {
    "collapsed": false,
    "pycharm": {
     "name": "#%%\n"
    }
   }
  },
  {
   "cell_type": "markdown",
   "source": [
    "### With regularization\n",
    "https://stats.stackexchange.com/questions/490876/ridge-and-quadratic-programming-for-portfolio-norm-optimization\n",
    "\n",
    "\\begin{align}\n",
    "\\arg \\min_{w} \\frac{1}{2} w^{T} (P + 2 \\lambda I) w + q^{T} w\n",
    "\\end{align}\n",
    "\n",
    "where\n",
    "\\begin{align}\n",
    "P &= D V S^{T} S V^{T} D \\\\\n",
    "q &= - D V S 1\n",
    "\\end{align}\n",
    "\n",
    "Also calculate the jacobian of this problem\n",
    "https://math.stackexchange.com/questions/4370875/closed-form-solution-for-quadratic-optimization-with-l2-regularization"
   ],
   "metadata": {
    "collapsed": false
   }
  },
  {
   "cell_type": "code",
   "execution_count": 10,
   "outputs": [
    {
     "name": "stdout",
     "output_type": "stream",
     "text": [
      "Minimize finished in 0.014322 seconds\n",
      "[ 0.03  0.08  0.07 -0.    0.82]\n",
      "ENB (SLSQP): 1.97\n",
      "QP finished in 0.011216 seconds\n",
      "[ 0.03  0.08  0.07 -0.    0.82]\n",
      "ENB (QP): 1.97\n"
     ]
    }
   ],
   "source": [
    "# Minimize\n",
    "def objfunc4(weights, singular_values_matrix, eigen_vector_matrix, vol, lmb=0):\n",
    "    S = singular_values_matrix\n",
    "    D = np.diag(vol)\n",
    "    V = eigen_vector_matrix\n",
    "    w = weights.reshape(-1, 1)\n",
    "    of = 1 / 2 * w.T @ D.T @ V @ S.T @ S @ V.T @ D @ w - np.ones((1, len(weights))) @ S @ V.T @ D @ w + lmb * w.T @ w\n",
    "\n",
    "    return of.item()\n",
    "\n",
    "cons = ({'type': 'ineq', 'fun': lambda x: x})\n",
    "\n",
    "tic = time.perf_counter()\n",
    "opti = minimize(\n",
    "    fun=objfunc4,\n",
    "    x0=np.array([1 / sample.shape[1]] * sample.shape[1]),\n",
    "    args=(S, V, np.diag(D), 1),\n",
    "    constraints=cons,\n",
    "    method='SLSQP',\n",
    "    options={'maxiter': 1E9, 'ftol': 1E-12}\n",
    ")\n",
    "toc = time.perf_counter()\n",
    "print(f\"Minimize finished in {(toc - tic):0.6f} seconds\")\n",
    "w = np.divide(opti.x, np.sum(opti.x))\n",
    "print(np.round(w, 2))\n",
    "print('ENB (SLSQP):', np.round(effective_bets(w, S, V, np.diag(D)), 2))\n",
    "\n",
    "# QP\n",
    "lmb = 1\n",
    "n = V.shape[0]\n",
    "P = D.T @ V @ S.T @ S @ V.T @ D\n",
    "Pr = P + 2 * lmb * np.eye(n)\n",
    "q = - (np.ones((1, n)) @ S @ V.T @ D).T\n",
    "G = - np.eye(n)\n",
    "h = np.zeros(n)\n",
    "\n",
    "tic = time.perf_counter()\n",
    "x = cp.Variable(n)\n",
    "prob = cp.Problem(cp.Minimize((1/2) * cp.quad_form(x, Pr) + q.T @ x), [G @ x <= h])\n",
    "prob.solve()\n",
    "toc = time.perf_counter()\n",
    "print(f\"QP finished in {(toc - tic):0.6f} seconds\")\n",
    "w = np.divide(x.value.flatten(), np.sum(x.value))\n",
    "print(np.round(w, 2))\n",
    "print('ENB (QP):', np.round(effective_bets(x.value.flatten(), S, V, np.diag(D)), 2))"
   ],
   "metadata": {
    "collapsed": false,
    "pycharm": {
     "name": "#%%\n"
    }
   }
  },
  {
   "cell_type": "markdown",
   "source": [],
   "metadata": {
    "collapsed": false,
    "pycharm": {
     "name": "#%% md\n"
    }
   }
  },
  {
   "cell_type": "markdown",
   "source": [
    "### Clustered allocation\n",
    "In the simplest case (no regularization nor additional stuff)\n",
    "\\begin{align}\n",
    "\\arg \\min_{\\theta} \\frac{1}{2} \\theta^{T} P \\theta + q^{T} \\theta\n",
    "\\end{align}\n",
    "\n",
    "where\n",
    "\\begin{align}\n",
    "P &= \\mathcal{C}^{T} W D V S^{T} S V^{T} D W \\mathcal{C} \\\\\n",
    "q &= - \\mathcal{C}^{T} W D V S 1 \\\\\n",
    "W &= \\left( w \\mathbb{1}^{T} \\right) \\circ I\n",
    "\\end{align}\n",
    "\n",
    "and $\\mathcal{C}$ is a $n \\times c$ matrix that maps the $n$ assets to the $c$ number of clusters, with entries of 1 if the the asset belongs to the cluster and 0 if not. W is the diagonal for of the weights vector.\n",
    "\n",
    "Issue with this construction... how to translate the cluster weights into single name caps/floors?\n",
    "Also, double check the dimension matching.\n"
   ],
   "metadata": {
    "collapsed": false,
    "pycharm": {
     "name": "#%% md\n"
    }
   }
  },
  {
   "cell_type": "code",
   "execution_count": 11,
   "outputs": [],
   "source": [
    "sample = raw.dropna()\n",
    "scaler = preprocessing.StandardScaler().fit(sample)\n",
    "sample_z = scaler.transform(sample)\n",
    "\n",
    "D = np.diag(np.sqrt(scaler.var_))\n",
    "U, s, Vt = svd(\n",
    "    sample_z,\n",
    "    full_matrices=False,\n",
    "    compute_uv=True,\n",
    "    lapack_driver='gesdd'\n",
    ")\n",
    "S = np.diag(s)\n",
    "V = Vt.T"
   ],
   "metadata": {
    "collapsed": false,
    "pycharm": {
     "name": "#%%\n"
    }
   }
  },
  {
   "cell_type": "markdown",
   "source": [
    "#### 1. Clustering\n",
    "Correlation with PC\n",
    "https://stats.stackexchange.com/questions/115032/how-to-find-which-variables-are-most-correlated-with-the-first-principal-compone\n",
    "\n",
    "\\begin{aligned}\n",
    "L = V \\frac{S}{\\sqrt{N-1}}\n",
    "\\end{aligned}\n",
    "\n",
    "Cutoff:\n",
    "file:///C:/Users/franc/Google%20Drive/Academia/PhD/Literature/Spectral/algorithms-15-00170.pdf\n",
    "\n",
    "https://ieeexplore.ieee.org/document/4041503"
   ],
   "metadata": {
    "collapsed": false,
    "pycharm": {
     "name": "#%% md\n"
    }
   }
  },
  {
   "cell_type": "code",
   "execution_count": 71,
   "outputs": [
    {
     "data": {
      "text/plain": "<Figure size 720x360 with 1 Axes>",
      "image/png": "[encoded data removed]"
     },
     "metadata": {
      "needs_background": "light"
     },
     "output_type": "display_data"
    }
   ],
   "source": [
    "from scipy.cluster.hierarchy import dendrogram, linkage\n",
    "from scipy.spatial.distance import pdist\n",
    "import matplotlib.pyplot as plt\n",
    "meta = pd.read_csv('etfs_comprehensive.csv', index_col=0)\n",
    "\n",
    "L = V @ S\n",
    "distance = pdist(L, metric='cosine')\n",
    "\n",
    "fig, ax = plt.subplots(figsize=(10, 5))\n",
    "R = dendrogram(\n",
    "    Z=linkage(distance, method='average'),\n",
    "    distance_sort=True,\n",
    "    get_leaves=True,\n",
    "    ax=ax,\n",
    "    color_threshold=.7\n",
    ")\n",
    "sorted_idx = R['leaves']\n",
    "ax.set_xticklabels(sample.columns[sorted_idx])\n",
    "plt.show()"
   ],
   "metadata": {
    "collapsed": false,
    "pycharm": {
     "name": "#%%\n"
    }
   }
  },
  {
   "cell_type": "code",
   "execution_count": 72,
   "outputs": [
    {
     "name": "stdout",
     "output_type": "stream",
     "text": [
      "3 clusters found\n"
     ]
    },
    {
     "data": {
      "text/plain": "     cluster                                        name        asset  \\\nIYM        0      iShares Dow Jones U.S. Basic Materials     Equities   \nIYK        0       iShares Dow Jones U.S. Consumer Goods     Equities   \nIYC        0    iShares Dow Jones U.S. Consumer Services     Equities   \nIYE        0               iShares Dow Jones U.S. Energy     Equities   \nIYF        0     iShares Dow Jones U.S. Financial Sector     Equities   \nIYG        0   iShares Dow Jones U.S. Financial Services     Equities   \nIYH        0           iShares Dow Jones U.S. Healthcare     Equities   \nIYJ        0           iShares Dow Jones U.S. Industrial     Equities   \nIYR        0          iShares Dow Jones U.S. Real Estate     Equities   \nIYW        0           iShares Dow Jones U.S. Technology     Equities   \nIYZ        0   iShares Dow Jones U.S. Telecommunications     Equities   \nIYT        0    iShares Dow Jones Transportation Average     Equities   \nIDU        0            iShares Dow Jones U.S. Utilities     Equities   \nEZU        0                       iShares MSCI Eurozone     Equities   \nEWU        0                 iShares MSCI United Kingdom     Equities   \nILF        0                    iShares Latin America 40     Equities   \nEWJ        0                          iShares MSCI Japan     Equities   \nFXI        0                     iShares China Large-Cap     Equities   \nIAU        2                                iShares Gold  Commodities   \nSLV        2                              iShares Silver  Commodities   \nSHY        1                   iShares 1-3 Year Treasury        Rates   \nIEI        1                   iShares 3-7 Year Treasury        Rates   \nIEF        1                  iShares 7-10 Year Treasury        Rates   \nTLH        1                 iShares 10-20 Year Treasury        Rates   \nTLT        1                   iShares 20+ Year Treasury        Rates   \nTIP        1                                iShares TIPS        Rates   \nMUB        1                       iShares National Muni        Rates   \nHYG        0        iShares iBoxx $ High Yield Corporate       Credit   \nLQD        1  iShares iBoxx $ Investment Grade Corporate       Credit   \nMBB        1                             iShares MBS ETF       Credit   \nEMB        0   iShares J.P. Morgan Emerging Markets Debt       Credit   \n\n               region  \nIYM     United States  \nIYK     United States  \nIYC     United States  \nIYE     United States  \nIYF     United States  \nIYG     United States  \nIYH     United States  \nIYJ     United States  \nIYR     United States  \nIYW     United States  \nIYZ     United States  \nIYT     United States  \nIDU     United States  \nEZU            Europe  \nEWU            Europe  \nILF  Emerging Markets  \nEWJ             Japan  \nFXI  Emerging Markets  \nIAU   Precious Metals  \nSLV   Precious Metals  \nSHY     United States  \nIEI     United States  \nIEF     United States  \nTLH     United States  \nTLT     United States  \nTIP     United States  \nMUB     United States  \nHYG     United States  \nLQD     United States  \nMBB     United States  \nEMB  Emerging Markets  ",
      "text/html": "<div>\n<style scoped>\n    .dataframe tbody tr th:only-of-type {\n        vertical-align: middle;\n    }\n\n    .dataframe tbody tr th {\n        vertical-align: top;\n    }\n\n    .dataframe thead th {\n        text-align: right;\n    }\n</style>\n<table border=\"1\" class=\"dataframe\">\n  <thead>\n    <tr style=\"text-align: right;\">\n      <th></th>\n      <th>cluster</th>\n      <th>name</th>\n      <th>asset</th>\n      <th>region</th>\n    </tr>\n  </thead>\n  <tbody>\n    <tr>\n      <th>IYM</th>\n      <td>0</td>\n      <td>iShares Dow Jones U.S. Basic Materials</td>\n      <td>Equities</td>\n      <td>United States</td>\n    </tr>\n    <tr>\n      <th>IYK</th>\n      <td>0</td>\n      <td>iShares Dow Jones U.S. Consumer Goods</td>\n      <td>Equities</td>\n      <td>United States</td>\n    </tr>\n    <tr>\n      <th>IYC</th>\n      <td>0</td>\n      <td>iShares Dow Jones U.S. Consumer Services</td>\n      <td>Equities</td>\n      <td>United States</td>\n    </tr>\n    <tr>\n      <th>IYE</th>\n      <td>0</td>\n      <td>iShares Dow Jones U.S. Energy</td>\n      <td>Equities</td>\n      <td>United States</td>\n    </tr>\n    <tr>\n      <th>IYF</th>\n      <td>0</td>\n      <td>iShares Dow Jones U.S. Financial Sector</td>\n      <td>Equities</td>\n      <td>United States</td>\n    </tr>\n    <tr>\n      <th>IYG</th>\n      <td>0</td>\n      <td>iShares Dow Jones U.S. Financial Services</td>\n      <td>Equities</td>\n      <td>United States</td>\n    </tr>\n    <tr>\n      <th>IYH</th>\n      <td>0</td>\n      <td>iShares Dow Jones U.S. Healthcare</td>\n      <td>Equities</td>\n      <td>United States</td>\n    </tr>\n    <tr>\n      <th>IYJ</th>\n      <td>0</td>\n      <td>iShares Dow Jones U.S. Industrial</td>\n      <td>Equities</td>\n      <td>United States</td>\n    </tr>\n    <tr>\n      <th>IYR</th>\n      <td>0</td>\n      <td>iShares Dow Jones U.S. Real Estate</td>\n      <td>Equities</td>\n      <td>United States</td>\n    </tr>\n    <tr>\n      <th>IYW</th>\n      <td>0</td>\n      <td>iShares Dow Jones U.S. Technology</td>\n      <td>Equities</td>\n      <td>United States</td>\n    </tr>\n    <tr>\n      <th>IYZ</th>\n      <td>0</td>\n      <td>iShares Dow Jones U.S. Telecommunications</td>\n      <td>Equities</td>\n      <td>United States</td>\n    </tr>\n    <tr>\n      <th>IYT</th>\n      <td>0</td>\n      <td>iShares Dow Jones Transportation Average</td>\n      <td>Equities</td>\n      <td>United States</td>\n    </tr>\n    <tr>\n      <th>IDU</th>\n      <td>0</td>\n      <td>iShares Dow Jones U.S. Utilities</td>\n      <td>Equities</td>\n      <td>United States</td>\n    </tr>\n    <tr>\n      <th>EZU</th>\n      <td>0</td>\n      <td>iShares MSCI Eurozone</td>\n      <td>Equities</td>\n      <td>Europe</td>\n    </tr>\n    <tr>\n      <th>EWU</th>\n      <td>0</td>\n      <td>iShares MSCI United Kingdom</td>\n      <td>Equities</td>\n      <td>Europe</td>\n    </tr>\n    <tr>\n      <th>ILF</th>\n      <td>0</td>\n      <td>iShares Latin America 40</td>\n      <td>Equities</td>\n      <td>Emerging Markets</td>\n    </tr>\n    <tr>\n      <th>EWJ</th>\n      <td>0</td>\n      <td>iShares MSCI Japan</td>\n      <td>Equities</td>\n      <td>Japan</td>\n    </tr>\n    <tr>\n      <th>FXI</th>\n      <td>0</td>\n      <td>iShares China Large-Cap</td>\n      <td>Equities</td>\n      <td>Emerging Markets</td>\n    </tr>\n    <tr>\n      <th>IAU</th>\n      <td>2</td>\n      <td>iShares Gold</td>\n      <td>Commodities</td>\n      <td>Precious Metals</td>\n    </tr>\n    <tr>\n      <th>SLV</th>\n      <td>2</td>\n      <td>iShares Silver</td>\n      <td>Commodities</td>\n      <td>Precious Metals</td>\n    </tr>\n    <tr>\n      <th>SHY</th>\n      <td>1</td>\n      <td>iShares 1-3 Year Treasury</td>\n      <td>Rates</td>\n      <td>United States</td>\n    </tr>\n    <tr>\n      <th>IEI</th>\n      <td>1</td>\n      <td>iShares 3-7 Year Treasury</td>\n      <td>Rates</td>\n      <td>United States</td>\n    </tr>\n    <tr>\n      <th>IEF</th>\n      <td>1</td>\n      <td>iShares 7-10 Year Treasury</td>\n      <td>Rates</td>\n      <td>United States</td>\n    </tr>\n    <tr>\n      <th>TLH</th>\n      <td>1</td>\n      <td>iShares 10-20 Year Treasury</td>\n      <td>Rates</td>\n      <td>United States</td>\n    </tr>\n    <tr>\n      <th>TLT</th>\n      <td>1</td>\n      <td>iShares 20+ Year Treasury</td>\n      <td>Rates</td>\n      <td>United States</td>\n    </tr>\n    <tr>\n      <th>TIP</th>\n      <td>1</td>\n      <td>iShares TIPS</td>\n      <td>Rates</td>\n      <td>United States</td>\n    </tr>\n    <tr>\n      <th>MUB</th>\n      <td>1</td>\n      <td>iShares National Muni</td>\n      <td>Rates</td>\n      <td>United States</td>\n    </tr>\n    <tr>\n      <th>HYG</th>\n      <td>0</td>\n      <td>iShares iBoxx $ High Yield Corporate</td>\n      <td>Credit</td>\n      <td>United States</td>\n    </tr>\n    <tr>\n      <th>LQD</th>\n      <td>1</td>\n      <td>iShares iBoxx $ Investment Grade Corporate</td>\n      <td>Credit</td>\n      <td>United States</td>\n    </tr>\n    <tr>\n      <th>MBB</th>\n      <td>1</td>\n      <td>iShares MBS ETF</td>\n      <td>Credit</td>\n      <td>United States</td>\n    </tr>\n    <tr>\n      <th>EMB</th>\n      <td>0</td>\n      <td>iShares J.P. Morgan Emerging Markets Debt</td>\n      <td>Credit</td>\n      <td>Emerging Markets</td>\n    </tr>\n  </tbody>\n</table>\n</div>"
     },
     "execution_count": 72,
     "metadata": {},
     "output_type": "execute_result"
    }
   ],
   "source": [
    "from sklearn.cluster import AgglomerativeClustering\n",
    "\n",
    "clustering = AgglomerativeClustering(\n",
    "    affinity='cosine',\n",
    "    linkage='average',\n",
    "    distance_threshold=.7,\n",
    "    n_clusters=None\n",
    ")\n",
    "clustering.fit(L)\n",
    "print(clustering.n_clusters_, 'clusters found')\n",
    "\n",
    "# Cluster mapping matrix C\n",
    "clusters = pd.Series(clustering.labels_, index=sample.columns)\n",
    "cluster_map = pd.DataFrame(0, index=sample.columns, columns=range(clustering.n_clusters_))\n",
    "\n",
    "for c in cluster_map.columns:\n",
    "    members = clusters[clusters == c].index\n",
    "    cluster_map.loc[members, c] = 1\n",
    "\n",
    "C = cluster_map.values\n",
    "\n",
    "res = pd.DataFrame(clustering.labels_, index=sample.columns, columns=['cluster'])\n",
    "res[['name', 'asset', 'region']] = meta.reindex(res.index)\n",
    "res"
   ],
   "metadata": {
    "collapsed": false,
    "pycharm": {
     "name": "#%%\n"
    }
   }
  },
  {
   "cell_type": "code",
   "execution_count": 78,
   "outputs": [
    {
     "data": {
      "text/plain": "array([[1, 0, 0],\n       [1, 0, 0],\n       [1, 0, 0],\n       [1, 0, 0],\n       [1, 0, 0],\n       [1, 0, 0],\n       [1, 0, 0],\n       [1, 0, 0],\n       [1, 0, 0],\n       [1, 0, 0],\n       [1, 0, 0],\n       [1, 0, 0],\n       [1, 0, 0],\n       [1, 0, 0],\n       [1, 0, 0],\n       [1, 0, 0],\n       [1, 0, 0],\n       [1, 0, 0],\n       [0, 0, 1],\n       [0, 0, 1],\n       [0, 1, 0],\n       [0, 1, 0],\n       [0, 1, 0],\n       [0, 1, 0],\n       [0, 1, 0],\n       [0, 1, 0],\n       [0, 1, 0],\n       [1, 0, 0],\n       [0, 1, 0],\n       [0, 1, 0],\n       [1, 0, 0]], dtype=int64)"
     },
     "execution_count": 78,
     "metadata": {},
     "output_type": "execute_result"
    }
   ],
   "source": [
    "C"
   ],
   "metadata": {
    "collapsed": false,
    "pycharm": {
     "name": "#%%\n"
    }
   }
  },
  {
   "cell_type": "markdown",
   "source": [
    "#### 2. Defining the weights as inversevol"
   ],
   "metadata": {
    "collapsed": false,
    "pycharm": {
     "name": "#%% md\n"
    }
   }
  },
  {
   "cell_type": "code",
   "execution_count": 73,
   "outputs": [
    {
     "name": "stdout",
     "output_type": "stream",
     "text": [
      "ENB (Inverse Vol, base case): 1.93\n"
     ]
    }
   ],
   "source": [
    "W = np.linalg.inv(D)\n",
    "W = np.divide(W, np.trace(W))\n",
    "w_inv = np.diag(W)\n",
    "print('ENB (Inverse Vol, base case):', np.round(effective_bets(w_inv.flatten(), S, V, np.diag(D)), 2))"
   ],
   "metadata": {
    "collapsed": false,
    "pycharm": {
     "name": "#%%\n"
    }
   }
  },
  {
   "cell_type": "markdown",
   "source": [
    "#### 3. No constraints case"
   ],
   "metadata": {
    "collapsed": false
   }
  },
  {
   "cell_type": "code",
   "execution_count": 79,
   "outputs": [
    {
     "name": "stdout",
     "output_type": "stream",
     "text": [
      "[ 0.06 -0.71  1.65]\n",
      "-0.4369036440945188\n",
      "ENB (clustered, no constraints): 3.35\n"
     ]
    }
   ],
   "source": [
    "# QP\n",
    "c = clustering.n_clusters_\n",
    "n = V.shape[0]\n",
    "P = C.T @ W @ D.T @ V @ S.T @ S @ V.T @ D @ W @ C\n",
    "q = -C.T @ W @ D @ V @ S @ np.ones((n, 1))\n",
    "\n",
    "x = cp.Variable(c)\n",
    "prob = cp.Problem(cp.Minimize((1/2) * cp.quad_form(x, P) + q.T @ x))\n",
    "prob.solve()\n",
    "theta = np.divide(x.value.flatten(), np.sum(x.value))\n",
    "print(np.round(theta, 2))\n",
    "w_star = W @ C @ theta.reshape(-1, 1)\n",
    "print(w_star.sum())\n",
    "print('ENB (clustered, no constraints):', np.round(effective_bets(w_star.flatten(), S, V, np.diag(D)), 2))"
   ],
   "metadata": {
    "collapsed": false,
    "pycharm": {
     "name": "#%%\n"
    }
   }
  },
  {
   "cell_type": "markdown",
   "source": [
    "### 4. Basic constraint: positivity\n",
    "First we test the non-clustered version to compare"
   ],
   "metadata": {
    "collapsed": false,
    "pycharm": {
     "name": "#%% md\n"
    }
   }
  },
  {
   "cell_type": "code",
   "execution_count": 75,
   "outputs": [
    {
     "name": "stdout",
     "output_type": "stream",
     "text": [
      "QP finished in 0.017335 seconds\n",
      "[ 0.01 -0.27  0.15  0.   -0.28  0.2   0.07  0.11  0.08 -0.09  0.04 -0.11\n",
      "  0.05 -0.01  0.06  0.01 -0.1   0.09  0.01 -0.04  0.56  0.8  -0.82 -0.23\n",
      "  0.28 -0.03  0.11 -0.19  0.09  0.55 -0.08]\n",
      "ENB (no cluster, unconstrained): 31.0\n"
     ]
    }
   ],
   "source": [
    "# QP\n",
    "n = V.shape[0]\n",
    "P = D.T @ V @ S.T @ S @ V.T @ D\n",
    "q = - (np.ones((1, n)) @ S @ V.T @ D).T\n",
    "\n",
    "tic = time.perf_counter()\n",
    "x = cp.Variable(n)\n",
    "prob = cp.Problem(cp.Minimize((1/2) * cp.quad_form(x, P) + q.T @ x))\n",
    "prob.solve()\n",
    "toc = time.perf_counter()\n",
    "print(f\"QP finished in {(toc - tic):0.6f} seconds\")\n",
    "w = np.divide(x.value.flatten(), np.sum(x.value))\n",
    "print(np.round(w, 2))\n",
    "print('ENB (no cluster, unconstrained):', np.round(effective_bets(x.value.flatten(), S, V, np.diag(D)), 2))"
   ],
   "metadata": {
    "collapsed": false,
    "pycharm": {
     "name": "#%%\n"
    }
   }
  },
  {
   "cell_type": "code",
   "execution_count": 76,
   "outputs": [
    {
     "name": "stdout",
     "output_type": "stream",
     "text": [
      "QP finished in 0.041864 seconds\n",
      "[ 0.    0.    0.    0.    0.    0.    0.    0.    0.    0.    0.    0.\n",
      "  0.    0.    0.    0.    0.    0.03 -0.   -0.    0.5  -0.   -0.   -0.\n",
      "  0.05 -0.    0.    0.    0.    0.41  0.  ]\n",
      "1.0\n",
      "ENB (no cluster, positivity): 3.03\n"
     ]
    }
   ],
   "source": [
    "# QP\n",
    "n = V.shape[0]\n",
    "P = D.T @ V @ S.T @ S @ V.T @ D\n",
    "q = - (np.ones((1, n)) @ S @ V.T @ D).T\n",
    "G = - np.eye(n)\n",
    "h = np.zeros(n)\n",
    "\n",
    "tic = time.perf_counter()\n",
    "x = cp.Variable(n)\n",
    "prob = cp.Problem(cp.Minimize((1/2) * cp.quad_form(x, P) + q.T @ x), [G @ x <= h])\n",
    "prob.solve()\n",
    "toc = time.perf_counter()\n",
    "print(f\"QP finished in {(toc - tic):0.6f} seconds\")\n",
    "w = np.divide(x.value.flatten(), np.sum(x.value))\n",
    "print(np.round(w, 2))\n",
    "print(w.sum())\n",
    "print('ENB (no cluster, positivity):', np.round(effective_bets(x.value.flatten(), S, V, np.diag(D)), 2))"
   ],
   "metadata": {
    "collapsed": false,
    "pycharm": {
     "name": "#%%\n"
    }
   }
  },
  {
   "cell_type": "markdown",
   "source": [
    "Now the clustered version"
   ],
   "metadata": {
    "collapsed": false,
    "pycharm": {
     "name": "#%% md\n"
    }
   }
  },
  {
   "cell_type": "code",
   "source": [
    "c = clustering.n_clusters_\n",
    "n = V.shape[0]\n",
    "P = C.T @ W @ D.T @ V @ S.T @ S @ V.T @ D @ W @ C\n",
    "q = -C.T @ W @ D @ V @ S @ np.ones((n, 1))\n",
    "\n",
    "G = - np.eye(c)  # TODO: how can I pass the constraints at the asset level (w), given that I am choosing theta?\n",
    "h = np.zeros(c)\n",
    "A = np.ones((1, n)) @ W @ C\n",
    "b = np.array(1)\n",
    "\n",
    "x = cp.Variable(c)\n",
    "prob = cp.Problem(cp.Minimize((1/2) * cp.quad_form(x, P) + q.T @ x), [G @ x <= h, A @ x == b])\n",
    "prob.solve()\n",
    "theta = x.value\n",
    "print(np.round(x.value, 2))\n",
    "w_star = W @ C @ x.value.reshape(-1, 1)\n",
    "print(w_star.sum())\n",
    "\n",
    "print('ENB (cluster, positivity):', np.round(effective_bets(w_star.flatten(), S, V, np.diag(D)), 2))\n",
    "\n",
    "pd.Series(w_star.flatten(), index=sample.columns).plot.bar()\n",
    "plt.show()"
   ],
   "metadata": {
    "collapsed": false,
    "pycharm": {
     "name": "#%%\n"
    }
   },
   "execution_count": 77,
   "outputs": [
    {
     "name": "stdout",
     "output_type": "stream",
     "text": [
      "[ 0.    1.46 -0.  ]\n",
      "1.0\n",
      "ENB (cluster, positivity): 1.68\n"
     ]
    },
    {
     "data": {
      "text/plain": "<Figure size 432x288 with 1 Axes>",
      "image/png": "[encoded data removed]"
     },
     "metadata": {
      "needs_background": "light"
     },
     "output_type": "display_data"
    }
   ]
  },
  {
   "cell_type": "code",
   "execution_count": 67,
   "outputs": [
    {
     "name": "stdout",
     "output_type": "stream",
     "text": [
      "[0.45 0.43 5.61]\n",
      "1888.0611172625436\n",
      "ENB (no constraints): 3.29\n"
     ]
    }
   ],
   "source": [
    "c = clustering.n_clusters_\n",
    "n = V.shape[0]\n",
    "P = C.T @ V @ S.T @ S @ V.T @ C\n",
    "q = -C.T @ V @ S @ np.ones((n, 1))\n",
    "\n",
    "G = - np.eye(c)  # TODO: how can I pass the constraints at the asset level (w), given that I am choosing theta?\n",
    "h = np.zeros(c)\n",
    "A = np.ones((1, n)) @ D @ C\n",
    "b = np.array(np.trace(D))\n",
    "\n",
    "x = cp.Variable(c)\n",
    "prob = cp.Problem(cp.Minimize((1/2) * cp.quad_form(x, P) + q.T @ x), [G @ x <= h, A @ x == b])\n",
    "prob.solve()\n",
    "theta = x.value\n",
    "print(np.round(x.value, 2))\n",
    "w_star = np.linalg.inv(W) @ C @ x.value.reshape(-1, 1)\n",
    "print(w_star.sum())\n",
    "print('ENB (no constraints):', np.round(effective_bets(w_star.flatten(), S, V, np.diag(D)), 2))"
   ],
   "metadata": {
    "collapsed": false,
    "pycharm": {
     "name": "#%%\n"
    }
   }
  },
  {
   "cell_type": "code",
   "execution_count": 20,
   "outputs": [
    {
     "data": {
      "text/plain": "array([[ 0.  ],\n       [ 0.  ],\n       [ 0.  ],\n       [ 0.  ],\n       [ 0.  ],\n       [ 0.  ],\n       [ 0.  ],\n       [ 0.  ],\n       [ 0.  ],\n       [ 0.  ],\n       [ 0.  ],\n       [ 0.  ],\n       [ 0.  ],\n       [ 0.  ],\n       [ 0.  ],\n       [ 0.  ],\n       [ 0.  ],\n       [ 0.  ],\n       [-0.  ],\n       [-0.  ],\n       [ 5.69],\n       [17.04],\n       [30.07],\n       [44.52],\n       [67.97],\n       [28.42],\n       [25.26],\n       [ 0.  ],\n       [40.19],\n       [15.54],\n       [ 0.  ]])"
     },
     "execution_count": 20,
     "metadata": {},
     "output_type": "execute_result"
    }
   ],
   "source": [
    "w_star.round(2)"
   ],
   "metadata": {
    "collapsed": false,
    "pycharm": {
     "name": "#%%\n"
    }
   }
  },
  {
   "cell_type": "code",
   "execution_count": 21,
   "outputs": [
    {
     "data": {
      "text/plain": "0    0.295581\n1    0.684741\n2    0.019677\ndtype: float64"
     },
     "execution_count": 21,
     "metadata": {},
     "output_type": "execute_result"
    }
   ],
   "source": [
    "pd.DataFrame(W @ C).sum()"
   ],
   "metadata": {
    "collapsed": false,
    "pycharm": {
     "name": "#%%\n"
    }
   }
  },
  {
   "cell_type": "code",
   "execution_count": 22,
   "outputs": [
    {
     "data": {
      "text/plain": "array([[0.2955813 , 0.6847414 , 0.01967729]])"
     },
     "execution_count": 22,
     "metadata": {},
     "output_type": "execute_result"
    }
   ],
   "source": [
    "np.ones((1, n)) @ W @ C"
   ],
   "metadata": {
    "collapsed": false,
    "pycharm": {
     "name": "#%%\n"
    }
   }
  },
  {
   "cell_type": "code",
   "execution_count": 41,
   "outputs": [],
   "source": [
    "wx = np.arange(start=0, stop=2.01, step=.01)\n",
    "\n",
    "w_collect = []\n",
    "for i in wx:\n",
    "    for j in wx:\n",
    "        for k in wx:\n",
    "            w_collect += [np.array([i, j, k])]\n",
    "\n",
    "wtest = pd.DataFrame(w_collect)"
   ],
   "metadata": {
    "collapsed": false,
    "pycharm": {
     "name": "#%%\n"
    }
   }
  },
  {
   "cell_type": "code",
   "execution_count": 38,
   "outputs": [
    {
     "data": {
      "text/plain": "<AxesSubplot:>"
     },
     "execution_count": 38,
     "metadata": {},
     "output_type": "execute_result"
    },
    {
     "data": {
      "text/plain": "<Figure size 432x288 with 1 Axes>",
      "image/png": "[encoded data removed]"
     },
     "metadata": {
      "needs_background": "light"
     },
     "output_type": "display_data"
    }
   ],
   "source": [
    "res = pd.Series(index=wtest.index, dtype=float)\n",
    "for w_i in wtest.index:\n",
    "    theta = wtest.loc[w_i].values\n",
    "    w_star = W @ C @ theta.reshape(-1, 1)\n",
    "    res[w_i] = np.round(effective_bets(w_star.flatten(), S, V, np.diag(D)), 2)\n",
    "\n",
    "res.sort_values().reset_index(drop=True).plot()"
   ],
   "metadata": {
    "collapsed": false,
    "pycharm": {
     "name": "#%%\n"
    }
   }
  },
  {
   "cell_type": "code",
   "execution_count": 39,
   "outputs": [
    {
     "data": {
      "text/plain": "1415    3.67\n1214    3.67\n1414    3.67\n1212    3.68\n1213    3.68\ndtype: float64"
     },
     "execution_count": 39,
     "metadata": {},
     "output_type": "execute_result"
    }
   ],
   "source": [
    "res.sort_values().tail()"
   ],
   "metadata": {
    "collapsed": false,
    "pycharm": {
     "name": "#%%\n"
    }
   }
  },
  {
   "cell_type": "code",
   "execution_count": 40,
   "outputs": [
    {
     "name": "stdout",
     "output_type": "stream",
     "text": [
      "[0.06 0.06 0.88]\n",
      "ENB (no constraints): 3.68\n"
     ]
    },
    {
     "data": {
      "text/plain": "<AxesSubplot:>"
     },
     "execution_count": 40,
     "metadata": {},
     "output_type": "execute_result"
    },
    {
     "data": {
      "text/plain": "<Figure size 432x288 with 1 Axes>",
      "image/png": "[encoded data removed]"
     },
     "metadata": {
      "needs_background": "light"
     },
     "output_type": "display_data"
    }
   ],
   "source": [
    "sol = wtest.loc[res.idxmax()].values\n",
    "print(np.round(sol, 2))\n",
    "w_star = W @ C @ sol.reshape(-1, 1)\n",
    "print('ENB (no constraints):', np.round(effective_bets(w_star.flatten(), S, V, np.diag(D)), 2))\n",
    "pd.Series(w_star.squeeze(), index=sample.columns).plot.bar()"
   ],
   "metadata": {
    "collapsed": false,
    "pycharm": {
     "name": "#%%\n"
    }
   }
  },
  {
   "cell_type": "markdown",
   "source": [],
   "metadata": {
    "collapsed": false
   }
  }
 ],
 "metadata": {
  "kernelspec": {
   "display_name": "Python 3",
   "language": "python",
   "name": "python3"
  },
  "language_info": {
   "codemirror_mode": {
    "name": "ipython",
    "version": 2
   },
   "file_extension": ".py",
   "mimetype": "text/x-python",
   "name": "python",
   "nbconvert_exporter": "python",
   "pygments_lexer": "ipython2",
   "version": "2.7.6"
  }
 },
 "nbformat": 4,
 "nbformat_minor": 0
}