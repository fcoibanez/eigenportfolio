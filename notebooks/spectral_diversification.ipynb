{
 "cells": [
  {
   "cell_type": "markdown",
   "metadata": {},
   "source": [
    "# Robust Data-Driven Portfolio Diversification\n",
    "### Francisco A. Ibanez\n",
    "\n",
    "1. RPCA on the sample\n",
    "2. Singular Value Hard Thresholding (SVHT)\n",
    "3. Truncated SVD\n",
    "4. Maximize portfolio effective bets - regualization, s.t.: \n",
    "    - Positivity constraint\n",
    "    - Leverage 1x\n",
    "\n",
    "The combination of (1), (2), and (3) should limit the possible permutations of the J vector when doing the spectral risk parity.\n",
    "\n",
    "## Methodology\n",
    "The goal of the overall methodology is to arrive to a portfolio weights vector which provides a well-balanced portfolio exposure to each one of the spectral risk factors present in an given investable universe.\n",
    "\n",
    "We start with the data set $X_{T \\times N}$ which containst the historical excess returns for each one of the assets that span the investable universe of the portfolio. Before performing the eigendecomposition on $X$, we need to clean the set from noisy trading observations and outliers. We apply Robust Principal Components (RPCA) on $X$ to achieve this, which seeks to decompose $X$ into a structured low-rank matrix $R$ and a sparse matrix $C$ containing outliers and corrupt data:\n",
    "\n",
    "\\begin{aligned}\n",
    "X=R_0+C_0\n",
    "\\end{aligned}\n",
    "\n",
    "The principal components of $R$ are robust to outliers and corrupt data in $C$. Mathematically, the goal is to find $R$ and $C$ that satisfy the following:\n",
    "\n",
    "\\begin{aligned}\n",
    "\\min_{R,C} ||R||_{*} + \\lambda ||C||_{1} \\\\\n",
    "\\text{subject to} \\\\ R + C = X\n",
    "\\end{aligned} "
   ]
  },
  {
   "cell_type": "code",
   "execution_count": 20,
   "metadata": {},
   "outputs": [
    {
     "name": "stdout",
     "output_type": "stream",
     "text": [
      "SVHT: 8, 58.43% of energy explained\n"
     ]
    }
   ],
   "source": [
    "import pandas as pd\n",
    "import numpy as np\n",
    "from rpca import RobustPCA\n",
    "import matplotlib.pyplot as plt\n",
    "from scipy.linalg import svd\n",
    "from optht import optht\n",
    "\n",
    "raw = pd.read_pickle('etf_er.pkl')\n",
    "sample = raw.dropna() # Working with even panel for now\n",
    "\n",
    "# Outlier detection & cleaning\n",
    "X = (sample - sample.mean()).div(sample.std()).values  # Normalization\n",
    "t, n = X.shape\n",
    "lmb = 4 / np.sqrt(max(t, n))  # Hyper-parameter\n",
    "rob = RobustPCA(lmb=lmb, max_iter=int(1E6))\n",
    "R, C = rob.fit(X)  # Robust, Corrupted\n",
    "\n",
    "# Low-rank representation (compression) through hard thresholding Truncated-SVD\n",
    "U, S, Vh = svd(R, full_matrices=False, compute_uv=True, lapack_driver='gesdd')\n",
    "S = np.diag(S)\n",
    "k = optht(X, sv=np.diag(S), sigma=None)\n",
    "\n",
    "V = Vh.T\n",
    "Vhat = V.copy()\n",
    "Vhat[:, k:] = 0\n",
    "Shat = S.copy()\n",
    "Shat[k:, k:] = 0\n",
    "\n",
    "cum_energy = np.cumsum(np.diag(S)) / np.sum(np.diag(S))\n",
    "print(f'SVHT: {k}, {round(cum_energy[k] * 100, 2)}% of energy explained')"
   ]
  },
  {
   "cell_type": "code",
   "execution_count": 26,
   "metadata": {},
   "outputs": [
    {
     "data": {
      "text/plain": [
       "1.4535327279694732"
      ]
     },
     "execution_count": 26,
     "metadata": {},
     "output_type": "execute_result"
    }
   ],
   "source": [
    "D = np.diag(sample.std().values)\n",
    "t, n = X.shape\n",
    "w = np.array([1 / n] * n).reshape(-1, 1)\n",
    "eigen_wts = V.T @ D @ w\n",
    "p = np.divide(np.diag(eigen_wts.flatten()) @ S.T @ S @ eigen_wts, w.T @ D @ R.T @ R @ D @ w)\n",
    "p = p.flatten()\n",
    "eta_p = np.exp(-np.sum(np.multiply(p, np.log(p))))\n",
    "eta_p"
   ]
  },
  {
   "cell_type": "code",
   "execution_count": 65,
   "metadata": {},
   "outputs": [
    {
     "data": {
      "text/plain": [
       "1.4535327279694745"
      ]
     },
     "execution_count": 65,
     "metadata": {},
     "output_type": "execute_result"
    }
   ],
   "source": [
    "def effective_bets(weights, singular_values_matrix, eigen_vector_matrix, volatilities, k=None):\n",
    "    w = weights.reshape(-1, 1)\n",
    "    eigen_wts = eigen_vector_matrix.T @ np.diag(volatilities) @ w\n",
    "    p = (np.diag(eigen_wts.flatten()) @ singular_values_matrix.T @ singular_values_matrix @ eigen_wts).flatten()\n",
    "    if k != None:\n",
    "        p = p[:k]\n",
    "    p_norm = np.divide(p, p.sum())\n",
    "    eta = np.exp(-np.sum(np.multiply(p_norm, np.log(p_norm))))\n",
    "    return eta\n",
    "\n",
    "effective_bets(np.array([1 / n] * n), S, V, sample.std().values)\n"
   ]
  },
  {
   "cell_type": "code",
   "execution_count": 85,
   "metadata": {},
   "outputs": [],
   "source": [
    "def objfunc(weights, singular_values_matrix, eigen_vector_matrix, volatilities, k=None):\n",
    "    return -effective_bets(weights, singular_values_matrix, eigen_vector_matrix, volatilities, k)\n",
    "\n",
    "# Testing if minimizing p.T @ p yields the same results as maximizing the effective numbers of bets \n",
    "def objfunc2(weights, singular_values_matrix, eigen_vector_matrix, volatilities, k=None):\n",
    "    w = weights.reshape(-1, 1)\n",
    "    eigen_wts = eigen_vector_matrix.T @ np.diag(volatilities) @ w\n",
    "    p = np.diag(eigen_wts.flatten()) @ singular_values_matrix.T @ singular_values_matrix @ eigen_wts\n",
    "    if k != None:\n",
    "        p = p[:k]\n",
    "    n = p.shape[0]\n",
    "    p_norm = np.divide(p, p.sum())\n",
    "    c = np.divide(np.ones((n, 1)), n)\n",
    "    return ((p_norm - c).T @ (p_norm - c)).item()"
   ]
  },
  {
   "cell_type": "code",
   "execution_count": 102,
   "metadata": {},
   "outputs": [
    {
     "name": "stdout",
     "output_type": "stream",
     "text": [
      "8.196506038023736\n"
     ]
    },
    {
     "data": {
      "image/png": "[encoded data removed]",
      "text/plain": [
       "<Figure size 432x288 with 1 Axes>"
      ]
     },
     "metadata": {
      "needs_background": "light"
     },
     "output_type": "display_data"
    }
   ],
   "source": [
    "# POSITIVE ONLY\n",
    "from scipy.optimize import minimize\n",
    "\n",
    "cons = (\n",
    "    {'type': 'ineq', 'fun': lambda x: x},\n",
    "    {'type': 'ineq', 'fun': lambda x: np.sum(x) - 1}\n",
    ")\n",
    "\n",
    "opti = minimize(\n",
    "    fun=objfunc,\n",
    "    x0=np.array([1 / n] * n),\n",
    "    args=(S, V, sample.std().values),\n",
    "    constraints=cons,\n",
    "    method='SLSQP',\n",
    "    tol=1E-12,\n",
    "    options={'maxiter': 1E9}\n",
    ")\n",
    "\n",
    "w_star = opti.x\n",
    "w_star /= w_star.sum() \n",
    "pd.Series(w_star, index=sample.columns).plot.bar()\n",
    "print(-opti.fun)"
   ]
  },
  {
   "cell_type": "code",
   "execution_count": 105,
   "metadata": {},
   "outputs": [
    {
     "name": "stdout",
     "output_type": "stream",
     "text": [
      "30.999999993097827\n"
     ]
    },
    {
     "data": {
      "image/png": "[encoded data removed]",
      "text/plain": [
       "<Figure size 432x288 with 1 Axes>"
      ]
     },
     "metadata": {
      "needs_background": "light"
     },
     "output_type": "display_data"
    }
   ],
   "source": [
    "# UNCONSTRAINED\n",
    "from scipy.optimize import minimize\n",
    "\n",
    "cons = (\n",
    "    {'type': 'ineq', 'fun': lambda x: x},\n",
    "    {'type': 'ineq', 'fun': lambda x: np.sum(x) - 1}\n",
    ")\n",
    "\n",
    "opti = minimize(\n",
    "    fun=objfunc,\n",
    "    x0=np.array([1 / n] * n),\n",
    "    args=(S, V, sample.std().values),\n",
    "#    constraints=cons,\n",
    "    method='SLSQP',\n",
    "    tol=1E-12,\n",
    "    options={'maxiter': 1E9}\n",
    ")\n",
    "\n",
    "w_star = opti.x\n",
    "w_star /= w_star.sum() \n",
    "pd.Series(w_star, index=sample.columns).plot.bar()\n",
    "print(-opti.fun)"
   ]
  },
  {
   "cell_type": "code",
   "execution_count": 106,
   "metadata": {},
   "outputs": [
    {
     "data": {
      "text/plain": [
       "<AxesSubplot:>"
      ]
     },
     "execution_count": 106,
     "metadata": {},
     "output_type": "execute_result"
    },
    {
     "data": {
      "image/png": "[encoded data removed]",
      "text/plain": [
       "<Figure size 432x288 with 1 Axes>"
      ]
     },
     "metadata": {
      "needs_background": "light"
     },
     "output_type": "display_data"
    }
   ],
   "source": [
    "eigen_wts = V.T @ np.diag(sample.std().values) @ w_star.reshape(-1, 1)\n",
    "p = (np.diag(eigen_wts.flatten()) @ S.T @ S @ eigen_wts).flatten()\n",
    "p = np.divide(p, p.sum())\n",
    "pd.Series(p).plot.bar()"
   ]
  },
  {
   "cell_type": "code",
   "execution_count": 107,
   "metadata": {},
   "outputs": [
    {
     "name": "stdout",
     "output_type": "stream",
     "text": [
      "5.142484857977732\n"
     ]
    },
    {
     "data": {
      "text/plain": [
       "<AxesSubplot:>"
      ]
     },
     "execution_count": 107,
     "metadata": {},
     "output_type": "execute_result"
    },
    {
     "data": {
      "image/png": "[encoded data removed]",
      "text/plain": [
       "<Figure size 432x288 with 1 Axes>"
      ]
     },
     "metadata": {
      "needs_background": "light"
     },
     "output_type": "display_data"
    }
   ],
   "source": [
    "# RC.T @ RC... different?\n",
    "cons = (\n",
    "    {'type': 'ineq', 'fun': lambda x: x},\n",
    "    {'type': 'ineq', 'fun': lambda x: np.sum(x) - 1}\n",
    ")\n",
    "\n",
    "opti = minimize(\n",
    "    fun=objfunc2,\n",
    "    x0=np.array([1 / n] * n),\n",
    "    args=(S, V, sample.std().values),\n",
    "    constraints=cons,\n",
    "    method='SLSQP',\n",
    "    tol=1E-12,\n",
    "    options={'maxiter': 1E9}\n",
    ")\n",
    "\n",
    "w_star = opti.x\n",
    "w_star /= w_star.sum()\n",
    "#pd.Series(w_star, index=sample.columns).plot.bar()\n",
    "print(effective_bets(w_star, S, V, sample.std().values))\n",
    "S, V, sample.std().values\n",
    "\n",
    "eigen_wts = V.T @ np.diag(sample.std().values) @ w_star.reshape(-1, 1)\n",
    "p = (np.diag(eigen_wts.flatten()) @ S.T @ S @ eigen_wts).flatten()\n",
    "p = np.divide(p, p.sum())\n",
    "pd.Series(p).plot.bar()"
   ]
  },
  {
   "cell_type": "code",
   "execution_count": 72,
   "metadata": {},
   "outputs": [
    {
     "data": {
      "text/plain": [
       "(3,)"
      ]
     },
     "execution_count": 72,
     "metadata": {},
     "output_type": "execute_result"
    }
   ],
   "source": [
    "np.array([1, 2, 3]).shape"
   ]
  },
  {
   "cell_type": "code",
   "execution_count": null,
   "metadata": {},
   "outputs": [],
   "source": []
  },
  {
   "cell_type": "code",
   "execution_count": null,
   "metadata": {},
   "outputs": [],
   "source": [
    "D = np.diag(sample.std().values)\n",
    "n = sample.shape[0]\n",
    "Sigma = 1 / (n - 1) * D @ X.T @ X @ D\n",
    "Sigma_b = 1 / (n - 1) * D @ (R + C).T @ (R + C) @ D\n",
    "\n",
    "pd.DataFrame(R.T @ C)\n",
    "pd.DataFrame(R.T @ C) + pd.DataFrame(C.T @ R)\n",
    "pd.DataFrame(R.T @ R) + pd.DataFrame(C.T @ C)"
   ]
  },
  {
   "cell_type": "markdown",
   "metadata": {},
   "source": [
    "\\begin{aligned}\n",
    "X &= R + C \\\\\n",
    "R &= USV^{T}\n",
    "\\end{aligned}\n",
    "\n",
    "using the Singular Value Hard Thresholding (SVHT) obtained above we can approximate $R$:\n",
    "\\begin{aligned}\n",
    "R &\\approx \\tilde{U}\\tilde{S}\\tilde{V}^{T}\n",
    "\\end{aligned}\n",
    "\n",
    "Check the algebra so everything add up and the first matrix $X$ can be recovered from this point.\n",
    "\n",
    "\\begin{aligned}\n",
    "\\Sigma &= \\frac{1}{(n - 1)}DX^{T}XD \\\\\n",
    "\\Sigma &= \\frac{1}{(n - 1)}D(R + C)^{T}(R + C))D\n",
    "\\end{aligned}\n",
    "\n",
    "then, portfolio risk will be given by:\n",
    "\\begin{aligned}\n",
    "w^{T}\\Sigma w &= \\frac{1}{(n - 1)}w^{T}D(R + C)^{T}(R + C))D w \\\\\n",
    "w^{T}\\Sigma w &= \\frac{1}{(n - 1)}w^{T}D(R^{T}R + R^{T}C + C^{T}R + C^{T}C ) D w \\\\\n",
    "\\end{aligned}\n",
    "\n"
   ]
  },
  {
   "cell_type": "markdown",
   "metadata": {},
   "source": [
    "\\begin{aligned}\n",
    "w^{T}\\Sigma w &= \\frac{1}{(n - 1)} \\lbrack w^{T}D(R^{T}R)Dw + w^{T} D(R^{T}C + C^{T}R + C^{T}C ) D w \\rbrack\n",
    "\\end{aligned}\n"
   ]
  },
  {
   "cell_type": "markdown",
   "metadata": {},
   "source": [
    "Taking the Singular Value Decomposition of R\n",
    "\n",
    "\\begin{aligned}\n",
    "R &= USV^{T} \\\\\n",
    "\\end{aligned}\n",
    "\n",
    "we can express R in terms of its singular values and eigenvectors:\n",
    "\n",
    "\\begin{aligned}\n",
    "w^{T}\\Sigma w &= (n - 1)^{-1} \\lbrack w^{T}D(VSU^{T}USV^{T})Dw + w^{T} D(R^{T}C + C^{T}R + C^{T}C) D w \\rbrack \\\\\n",
    "w^{T}\\Sigma w &= (n - 1)^{-1} \\lbrack w^{T}D(V S^{2} V^{T})Dw + w^{T} D(R^{T}C + C^{T}R + C^{T}C) D w \\rbrack\n",
    "\\end{aligned}\n",
    "\n",
    "where $S^{2}$ contains the eigenvalues of $R$ in its diagonal entries"
   ]
  },
  {
   "cell_type": "markdown",
   "metadata": {},
   "source": [
    "\\begin{aligned}\n",
    "w^{T}\\Sigma w &= (n - 1)^{-1} \\lbrack \\underbrace{w^{T}DV S^{2} V^{T}Dw}_\\text{Robust Component} \n",
    "+ \\underbrace{w^{T} D(R^{T}C + C^{T}R + C^{T}C) D w}_\\text{Noisy Component} \\rbrack\n",
    "\\end{aligned}"
   ]
  },
  {
   "cell_type": "markdown",
   "metadata": {},
   "source": [
    "TO DO: There has to be a way of reducing the noisy component, or at least interpret/explain it."
   ]
  },
  {
   "cell_type": "markdown",
   "metadata": {},
   "source": [
    "The portfolio risk contribution is then given by \n",
    "\n",
    "\\begin{aligned}\n",
    "diag(w)\\Sigma w &= (n - 1)^{-1} \\lbrack \\underbrace{\\theta}_\\text{Robust Component} \n",
    "+ \\underbrace{\\gamma}_\\text{Noisy Component} \\rbrack \\\\\n",
    "\n",
    "\\theta &= diag(V^{T}Dw)S^{2} V^{T}Dw\n",
    "\n",
    "\\end{aligned}"
   ]
  },
  {
   "cell_type": "markdown",
   "metadata": {},
   "source": [
    "\\begin{align}\n",
    "\\eta (w) & \\equiv \\exp \\left( -\\sum^{N}_{n=1} p_{n} \\ln{(p_{n})} \\right)\n",
    "\\end{align}\n",
    "\n",
    "Now we look for:\n",
    "\\begin{align}\n",
    "\\arg \\max_{w} \\eta(w)\n",
    "\\end{align}\n"
   ]
  }
 ],
 "metadata": {
  "interpreter": {
   "hash": "85821891d55b3c1247bd9e0eb50048d600fb27514281e95578cebf4814f5b437"
  },
  "kernelspec": {
   "display_name": "Python 3.9.1 64-bit ('spectral': conda)",
   "language": "python",
   "name": "python3"
  },
  "language_info": {
   "codemirror_mode": {
    "name": "ipython",
    "version": 3
   },
   "file_extension": ".py",
   "mimetype": "text/x-python",
   "name": "python",
   "nbconvert_exporter": "python",
   "pygments_lexer": "ipython3",
   "version": "3.9.1"
  },
  "orig_nbformat": 4
 },
 "nbformat": 4,
 "nbformat_minor": 2
}
